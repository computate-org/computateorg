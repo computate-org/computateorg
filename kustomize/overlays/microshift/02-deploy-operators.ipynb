{
 "cells": [
  {
   "cell_type": "markdown",
   "metadata": {},
   "source": [
    "# Deploy operators"
   ]
  },
  {
   "cell_type": "code",
   "execution_count": null,
   "metadata": {
    "vscode": {
     "languageId": "shellscript"
    }
   },
   "outputs": [],
   "source": [
    "oc apply -k catalogs/\n",
    "oc -n openshift-marketplace wait catalogsource/operatorhubio-catalog \\\n",
    "   --for=jsonpath={.status.connectionState.lastObservedState}='READY'\n",
    "echo DONE"
   ]
  },
  {
   "cell_type": "code",
   "execution_count": null,
   "metadata": {
    "vscode": {
     "languageId": "shellscript"
    }
   },
   "outputs": [],
   "source": [
    "oc apply -k operators/\n",
    "oc -n openshift-operators wait --timeout=300s subscription/cert-manager \\\n",
    "   --for=condition=CatalogSourcesUnhealthy=False\n",
    "oc -n openshift-operators wait --timeout=300s csv \\\n",
    "  -l operators.coreos.com/cert-manager.openshift-operators=\"\" --for=jsonpath={.status.phase}='Succeeded'\n",
    "echo DONE"
   ]
  },
  {
   "cell_type": "code",
   "execution_count": null,
   "metadata": {
    "vscode": {
     "languageId": "shellscript"
    }
   },
   "outputs": [],
   "source": [
    "oc apply -k resources/\n",
    "echo DONE"
   ]
  },
  {
   "cell_type": "code",
   "execution_count": null,
   "metadata": {
    "vscode": {
     "languageId": "shellscript"
    }
   },
   "outputs": [],
   "source": [
    "oc -n openshift-operators --timeout=300s wait subscription/postgresql \\\n",
    "   --for=condition=CatalogSourcesUnhealthy=False\n",
    "oc -n openshift-operators --timeout=300s wait csv \\\n",
    "  -l operators.coreos.com/postgresql.openshift-operators=\"\" --for=jsonpath={.status.phase}='Succeeded'\n",
    "echo DONE"
   ]
  },
  {
   "cell_type": "code",
   "execution_count": null,
   "metadata": {
    "vscode": {
     "languageId": "shellscript"
    }
   },
   "outputs": [],
   "source": [
    "oc -n postgres wait --timeout=300s postgrescluster/postgres --for=condition=PgBackRestRepoHostReady=True\n",
    "echo DONE"
   ]
  },
  {
   "cell_type": "code",
   "execution_count": null,
   "metadata": {
    "vscode": {
     "languageId": "shellscript"
    }
   },
   "outputs": [],
   "source": [
    "oc -n keycloak --timeout=300s wait subscription/keycloak-operator \\\n",
    "   --for=condition=CatalogSourcesUnhealthy=False\n",
    "oc -n keycloak --timeout=300s wait csv \\\n",
    "  -l operators.coreos.com/keycloak-operator.keycloak=\"\" --for=jsonpath={.status.phase}='Succeeded'"
   ]
  },
  {
   "cell_type": "code",
   "execution_count": null,
   "metadata": {
    "vscode": {
     "languageId": "shellscript"
    }
   },
   "outputs": [],
   "source": [
    "oc -n postgres get secret postgres-pguser-keycloak -o json \\\n",
    "    | jq 'del(.metadata[\"namespace\",\"creationTimestamp\",\"resourceVersion\",\"selfLink\",\"uid\",\"ownerReferences\"])' \\\n",
    "    | oc -n keycloak apply -f -\n"
   ]
  },
  {
   "cell_type": "code",
   "execution_count": null,
   "metadata": {
    "vscode": {
     "languageId": "shellscript"
    }
   },
   "outputs": [],
   "source": [
    "oc -n keycloak wait --timeout=300s keycloak/keycloak --for=condition=Ready=True"
   ]
  },
  {
   "cell_type": "code",
   "execution_count": null,
   "metadata": {
    "vscode": {
     "languageId": "shellscript"
    }
   },
   "outputs": [],
   "source": []
  }
 ],
 "metadata": {
  "kernelspec": {
   "display_name": "Bash",
   "language": "bash",
   "name": "bash"
  },
  "language_info": {
   "codemirror_mode": "shell",
   "file_extension": ".sh",
   "mimetype": "text/x-sh",
   "name": "bash"
  }
 },
 "nbformat": 4,
 "nbformat_minor": 2
}
